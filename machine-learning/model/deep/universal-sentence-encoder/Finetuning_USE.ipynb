{
  "cells": [
    {
      "cell_type": "code",
      "execution_count": null,
      "metadata": {
        "id": "BWhxoUZ77MKI",
        "colab": {
          "base_uri": "https://localhost:8080/"
        },
        "outputId": "f75b0c6e-6319-4371-fa3c-bf5313842a92"
      },
      "outputs": [
        {
          "output_type": "stream",
          "name": "stdout",
          "text": [
            "Drive already mounted at /content/drive; to attempt to forcibly remount, call drive.mount(\"/content/drive\", force_remount=True).\n"
          ]
        }
      ],
      "source": [
        "from google.colab import drive\n",
        "drive.mount('/content/drive')"
      ]
    },
    {
      "cell_type": "code",
      "execution_count": null,
      "metadata": {
        "id": "KzP4k5X57NrL"
      },
      "outputs": [],
      "source": [
        "import tensorflow as tf\n",
        "import tensorflow_hub as hub\n",
        "from tensorflow.keras import layers, Model\n",
        "from sklearn.preprocessing import OneHotEncoder\n",
        "import pickle\n",
        "import numpy as np\n",
        "from typing import Tuple"
      ]
    },
    {
      "cell_type": "code",
      "execution_count": null,
      "metadata": {
        "id": "YNFSdkp87ZHJ"
      },
      "outputs": [],
      "source": [
        "hyperparameters = {\"DROPOUT\": 0.1, \"LABEL_COUNT\": 3, \"LEARNING_RATE\": 0.00005, \"BATCH_SIZE\":128,\n",
        "                  \"USE_URL\": \"https://tfhub.dev/google/universal-sentence-encoder/4\",\n",
        "                   \"TRAINABLE\": True, \"EPOCHS\":5\n",
        "                  }"
      ]
    },
    {
      "cell_type": "code",
      "execution_count": null,
      "metadata": {
        "id": "KEQkmfpP7hXf"
      },
      "outputs": [],
      "source": [
        "onehotencoder_path = \"/content/drive/MyDrive/SAIL Exam Datasets/label-encoder.pickle\"\n",
        "\n",
        "with open(onehotencoder_path, 'rb') as handle:\n",
        "    label_encoder = pickle.load(handle)"
      ]
    },
    {
      "cell_type": "code",
      "execution_count": null,
      "metadata": {
        "id": "RjqkOnN07ypk"
      },
      "outputs": [],
      "source": [
        "import pandas as pd"
      ]
    },
    {
      "cell_type": "code",
      "execution_count": null,
      "metadata": {
        "id": "rHh6kMyV70_O"
      },
      "outputs": [],
      "source": [
        "train_df = pd.read_csv(\"/content/drive/MyDrive/SAIL Exam Datasets/tweets_reviews/train.csv\", sep=';')\n",
        "val_df = pd.read_csv(\"/content/drive/MyDrive/SAIL Exam Datasets/tweets_reviews/val.csv\", sep=';')"
      ]
    },
    {
      "cell_type": "code",
      "execution_count": null,
      "metadata": {
        "id": "HR65htug74oa"
      },
      "outputs": [],
      "source": [
        "class USEClassifier(Model):\n",
        "    def __init__(self, **kwargs):\n",
        "        super().__init__()\n",
        "        # self.inputs = layers.Input(kwargs['SEQ_LEN'])\n",
        "        self.use_layer = hub.KerasLayer(kwargs[\"USE_URL\"], trainable=kwargs['TRAINABLE'])\n",
        "        self.dropout_1 = layers.Dropout(kwargs['DROPOUT'])\n",
        "        self.dense_layer_1 = layers.Dense(1024, activation='relu')\n",
        "        self.dropout_2 = layers.Dropout(kwargs['DROPOUT'])\n",
        "        self.dense_layer_2 = layers.Dense(512, activation='relu')\n",
        "        self.output_layer = layers.Dense(kwargs['LABEL_COUNT'], activation='softmax')\n",
        "\n",
        "\n",
        "    def call(self, inputs, training):\n",
        "        output = self.use_layer(inputs)\n",
        "        output = self.dropout_1(output, training=training)\n",
        "        output = self.dense_layer_1(output)\n",
        "        output = self.dropout_2(output, training=training)\n",
        "        output = self.dense_layer_2(output)\n",
        "        final_output = self.output_layer(output)\n",
        "\n",
        "\n",
        "        return final_output\n",
        "\n",
        "\n",
        "    def get_config(self):\n",
        "        return {\n",
        "            'use_layer': self.use_layer,\n",
        "            'dropout_1': self.dropout_1,\n",
        "            'dense_layer_1': self.dense_layer_1,\n",
        "            'dropout_2': self.dropout_2,\n",
        "            'dense_layer_2': self.dense_layer_2,\n",
        "            'output_layer': self.output_layer\n",
        "        }\n",
        "\n",
        "\n"
      ]
    },
    {
      "cell_type": "code",
      "execution_count": null,
      "metadata": {
        "id": "FlYex9Zh76oA"
      },
      "outputs": [],
      "source": [
        "model = USEClassifier(**hyperparameters)"
      ]
    },
    {
      "cell_type": "code",
      "execution_count": null,
      "metadata": {
        "id": "kOB9vZEt8E0L"
      },
      "outputs": [],
      "source": [
        "opt = tf.keras.optimizers.Adam(learning_rate=hyperparameters[\"LEARNING_RATE\"], amsgrad=True)"
      ]
    },
    {
      "cell_type": "code",
      "execution_count": null,
      "metadata": {
        "id": "tlBRlFVB8UGJ"
      },
      "outputs": [],
      "source": [
        "model.compile(optimizer=opt, loss='categorical_crossentropy', metrics=['categorical_accuracy'])"
      ]
    },
    {
      "cell_type": "code",
      "execution_count": null,
      "metadata": {
        "id": "vOSDPlio8ZBO"
      },
      "outputs": [],
      "source": [
        "def prepare_dataset(df: pd.DataFrame) -> tuple:\n",
        "  X = np.array(list(df['text']))\n",
        "  Y = label_encoder.transform(np.array(list(df['expected_sentiment'])).reshape(-1,1)).toarray()\n",
        "  return X,Y"
      ]
    },
    {
      "cell_type": "code",
      "execution_count": null,
      "metadata": {
        "colab": {
          "base_uri": "https://localhost:8080/"
        },
        "id": "AisuqMcY8bT1",
        "outputId": "63da027c-8251-4081-c647-374157a20fcf"
      },
      "outputs": [
        {
          "output_type": "stream",
          "name": "stdout",
          "text": [
            "Epoch 1/5\n"
          ]
        }
      ],
      "source": [
        "X_train, Y_train = prepare_dataset(train_df)\n",
        "val_data = prepare_dataset(val_df)\n",
        "\n",
        "model.fit(x=X_train,y=Y_train,epochs=hyperparameters[\"EPOCHS\"],validation_data=val_data,batch_size=hyperparameters['BATCH_SIZE'])"
      ]
    },
    {
      "cell_type": "code",
      "execution_count": null,
      "metadata": {
        "id": "z8d6Ktm-8cVK"
      },
      "outputs": [],
      "source": [
        "model_filename = f\"/content/drive/MyDrive/SAIL Exam Datasets/finetuned_use_model_{hyperparameters['EPOCHS']}_epochs_{hyperparameters['LEARNING_RATE']}_lr_{hyperparameters['BATCH_SIZE']}_batch_trainable_use_tweets_reviews_dataset\"\n",
        "model.save(model_filename, save_format='tf')"
      ]
    },
    {
      "cell_type": "code",
      "execution_count": null,
      "metadata": {
        "id": "NIUruU9--2VN"
      },
      "outputs": [],
      "source": [
        "test_df = pd.read_csv(\"/content/drive/MyDrive/SAIL Exam Datasets/sentiment_test_cases.csv\")"
      ]
    },
    {
      "cell_type": "code",
      "execution_count": null,
      "metadata": {
        "id": "nD5-9TLLExu5"
      },
      "outputs": [],
      "source": [
        "from sklearn.metrics import classification_report"
      ]
    },
    {
      "cell_type": "code",
      "execution_count": null,
      "metadata": {
        "id": "nvmGSVWcE00Q"
      },
      "outputs": [],
      "source": [
        "test_X = np.array(list(test_df['text']))"
      ]
    },
    {
      "cell_type": "code",
      "execution_count": null,
      "metadata": {
        "id": "mL5SIFReFtty"
      },
      "outputs": [],
      "source": [
        "test_Y_prediction_raw = model(test_X)"
      ]
    },
    {
      "cell_type": "code",
      "execution_count": null,
      "metadata": {
        "id": "vx52IgJFF7Y5"
      },
      "outputs": [],
      "source": [
        "test_Y_pred = label_encoder.inverse_transform(test_Y_prediction_raw)"
      ]
    },
    {
      "cell_type": "code",
      "execution_count": null,
      "metadata": {
        "id": "c-jHDQicGD2I"
      },
      "outputs": [],
      "source": [
        "print(classification_report(np.array(list(test_df['expected_sentiment'])).reshape(-1,1), test_Y_pred))"
      ]
    },
    {
      "cell_type": "code",
      "source": [],
      "metadata": {
        "id": "8cEkxlTMrbRX"
      },
      "execution_count": null,
      "outputs": []
    }
  ],
  "metadata": {
    "accelerator": "TPU",
    "colab": {
      "machine_shape": "hm",
      "provenance": []
    },
    "kernelspec": {
      "display_name": "Python 3",
      "name": "python3"
    },
    "language_info": {
      "name": "python"
    }
  },
  "nbformat": 4,
  "nbformat_minor": 0
}
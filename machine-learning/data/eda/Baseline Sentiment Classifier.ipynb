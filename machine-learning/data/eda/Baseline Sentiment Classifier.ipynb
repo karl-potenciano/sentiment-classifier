{
 "cells": [
  {
   "cell_type": "markdown",
   "id": "6c6032f8",
   "metadata": {},
   "source": [
    "# Introduction"
   ]
  },
  {
   "cell_type": "markdown",
   "id": "3fbb1c13",
   "metadata": {},
   "source": [
    "At the start of every project, it is important to have some baseline metrics eme me"
   ]
  },
  {
   "cell_type": "code",
   "execution_count": 1,
   "id": "0dff29b3",
   "metadata": {},
   "outputs": [],
   "source": [
    "from transformers import pipeline\n",
    "import pandas as pd\n",
    "from tqdm import tqdm\n",
    "tqdm.pandas()\n",
    "from sklearn.metrics import classification_report"
   ]
  },
  {
   "cell_type": "markdown",
   "id": "2e5b46ef",
   "metadata": {},
   "source": [
    "# Load Test Dataset"
   ]
  },
  {
   "cell_type": "code",
   "execution_count": 2,
   "id": "20c58e56",
   "metadata": {},
   "outputs": [],
   "source": [
    "filename = \"/Users/karlpotenciano/Exams/sail-sentiment-classifier/artifacts/data/test_dataset/sentiment_test_cases.csv\"\n",
    "\n",
    "df = pd.read_csv(filename)"
   ]
  },
  {
   "cell_type": "markdown",
   "id": "6fb410ed",
   "metadata": {},
   "source": [
    "# Prepare Baseline Model"
   ]
  },
  {
   "cell_type": "markdown",
   "id": "e88dbab0",
   "metadata": {},
   "source": [
    "Insert keme on using this pretrained model"
   ]
  },
  {
   "cell_type": "code",
   "execution_count": 3,
   "id": "d3c6fa1e",
   "metadata": {},
   "outputs": [
    {
     "name": "stderr",
     "output_type": "stream",
     "text": [
      "Some weights of the model checkpoint at cardiffnlp/twitter-roberta-base-sentiment-latest were not used when initializing RobertaForSequenceClassification: ['roberta.pooler.dense.bias', 'roberta.pooler.dense.weight']\n",
      "- This IS expected if you are initializing RobertaForSequenceClassification from the checkpoint of a model trained on another task or with another architecture (e.g. initializing a BertForSequenceClassification model from a BertForPreTraining model).\n",
      "- This IS NOT expected if you are initializing RobertaForSequenceClassification from the checkpoint of a model that you expect to be exactly identical (initializing a BertForSequenceClassification model from a BertForSequenceClassification model).\n"
     ]
    }
   ],
   "source": [
    "model_path = \"cardiffnlp/twitter-roberta-base-sentiment-latest\"\n",
    "sentiment_task = pipeline(\"sentiment-analysis\", model=model_path, tokenizer=model_path)"
   ]
  },
  {
   "cell_type": "code",
   "execution_count": 4,
   "id": "774c88c7",
   "metadata": {},
   "outputs": [],
   "source": [
    "predictions_list = sentiment_task(df.text.tolist())\n",
    "predictions_df = pd.DataFrame(predictions_list)"
   ]
  },
  {
   "cell_type": "code",
   "execution_count": 33,
   "id": "dc808536",
   "metadata": {
    "scrolled": true
   },
   "outputs": [],
   "source": [
    "final_df = df.merge(predictions_df, left_index=True, right_index=True)\n",
    "final_df.columns = [\"expected_sentiment\", \"text\", \"model_output\", \"confidence\"]\n",
    "final_df[\"confidence\"] = final_df.confidence.apply(lambda conf: round(conf * 100.,2))"
   ]
  },
  {
   "cell_type": "markdown",
   "id": "71145a52",
   "metadata": {},
   "source": [
    "# Baseline Metrics"
   ]
  },
  {
   "cell_type": "code",
   "execution_count": 56,
   "id": "926131fd",
   "metadata": {},
   "outputs": [
    {
     "name": "stdout",
     "output_type": "stream",
     "text": [
      "              precision    recall  f1-score   support\n",
      "\n",
      "    negative       0.94      0.82      0.88       177\n",
      "     neutral       0.81      0.87      0.84       139\n",
      "    positive       0.85      0.91      0.88       182\n",
      "\n",
      "    accuracy                           0.87       498\n",
      "   macro avg       0.87      0.87      0.87       498\n",
      "weighted avg       0.87      0.87      0.87       498\n",
      "\n"
     ]
    }
   ],
   "source": [
    "print(classification_report(final_df.expected_sentiment, final_df.model_output))"
   ]
  },
  {
   "cell_type": "code",
   "execution_count": null,
   "id": "12b5135f",
   "metadata": {},
   "outputs": [],
   "source": []
  }
 ],
 "metadata": {
  "kernelspec": {
   "display_name": "Python 3 (ipykernel)",
   "language": "python",
   "name": "python3"
  },
  "language_info": {
   "codemirror_mode": {
    "name": "ipython",
    "version": 3
   },
   "file_extension": ".py",
   "mimetype": "text/x-python",
   "name": "python",
   "nbconvert_exporter": "python",
   "pygments_lexer": "ipython3",
   "version": "3.9.12"
  }
 },
 "nbformat": 4,
 "nbformat_minor": 5
}
